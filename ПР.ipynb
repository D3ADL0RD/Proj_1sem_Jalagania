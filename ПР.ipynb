{
  "nbformat": 4,
  "nbformat_minor": 0,
  "metadata": {
    "colab": {
      "name": "ПР.ipynb",
      "provenance": [],
      "collapsed_sections": [],
      "authorship_tag": "ABX9TyMcH3eMiuI6JAfbK2jXrANV",
      "include_colab_link": true
    },
    "kernelspec": {
      "name": "python3",
      "display_name": "Python 3"
    },
    "language_info": {
      "name": "python"
    }
  },
  "cells": [
    {
      "cell_type": "markdown",
      "metadata": {
        "id": "view-in-github",
        "colab_type": "text"
      },
      "source": [
        "<a href=\"https://colab.research.google.com/github/benjiplugg/Proj_1sem_Jalagania/blob/master/%D0%9F%D0%A0.ipynb\" target=\"_parent\"><img src=\"https://colab.research.google.com/assets/colab-badge.svg\" alt=\"Open In Colab\"/></a>"
      ]
    },
    {
      "cell_type": "code",
      "execution_count": 2,
      "metadata": {
        "colab": {
          "base_uri": "https://localhost:8080/"
        },
        "id": "6K3tRaTHbIBJ",
        "outputId": "920685bc-f7aa-4487-fb32-22752ef29f40"
      },
      "outputs": [
        {
          "output_type": "stream",
          "name": "stdout",
          "text": [
            "Введите текст: OBAMA 4M0\n",
            "-------------\n",
            "| OBAMA 4M0 |\n",
            "-------------\n"
          ]
        }
      ],
      "source": [
        "#ПР-5 Вариант - 5\n",
        "\n",
        "#С помощью функций получить вертикальную и горизонтальную линии.\n",
        "#Линия проводится многократной печатью символа.\n",
        "#Заключить слово в рамку из полученных линий.\n",
        "\n",
        "#Создание из символа горизонтальной линии\n",
        "def horizontalLine(count):\n",
        "    return '-' * (count + 4)\n",
        "\n",
        "#Создание двух вертикальных символов и последующие заключение в них текста\n",
        "def verticalLine(text):\n",
        "    return ('| {} |').format(text)\n",
        "\n",
        "#Ввод значений и создание переменных\n",
        "text = str(input('Введите текст: '))\n",
        "textLen = len(text)\n",
        "horLine = horizontalLine(textLen)\n",
        "verLine = verticalLine(text)\n",
        "\n",
        "#Вывод результатов\n",
        "print(horLine)\n",
        "print(verLine)\n",
        "print(horLine)"
      ]
    },
    {
      "cell_type": "code",
      "source": [
        "# ПР-3 Вариант - 5\n",
        "# Дано вещественное число — цена 1 кг конфет.\n",
        "# Вывести стоимость 1.2, 1.4, ..., 2 кг конфет.\n",
        "\n",
        "#Проверка исключения\n",
        "val = input(\"Введите вещественное число: \")\n",
        "while type(val) != float:\n",
        "    try:\n",
        "        val = float(val)\n",
        "    except ValueError:\n",
        "       print('Введено не число!')\n",
        "       val = input('Введите вещественное число: ')\n",
        "\n",
        "#Ввод переменных\n",
        "i = 0\n",
        "kg = 1\n",
        "while i <= 5:\n",
        "    #Форматирование числа\n",
        "    print('{0:.1f} кг стоит {1:.1f}'.format(round(kg, 2), round(kg * val, 2)))\n",
        "    i += 1\n",
        "    kg += 0.2"
      ],
      "metadata": {
        "colab": {
          "base_uri": "https://localhost:8080/"
        },
        "id": "OPQSkh2jblKa",
        "outputId": "057a0751-e82e-487b-d360-59c89ed0ad69"
      },
      "execution_count": 3,
      "outputs": [
        {
          "output_type": "stream",
          "name": "stdout",
          "text": [
            "Введите вещественное число: 60\n",
            "1.0 кг стоит 60.0\n",
            "1.2 кг стоит 72.0\n",
            "1.4 кг стоит 84.0\n",
            "1.6 кг стоит 96.0\n",
            "1.8 кг стоит 108.0\n",
            "2.0 кг стоит 120.0\n"
          ]
        }
      ]
    },
    {
      "cell_type": "code",
      "source": [
        "#ПР-3 Вариант-5\n",
        "\n",
        "#Даны два целых числа: A, B. Проверить истинность высказывания: «Справедливы\n",
        "#неравенства A > 0 или B < —2».\n",
        "\n",
        "a = input('Введите целое число A: ')\n",
        "\n",
        "#Исключение для А\n",
        "while type(a) != int:\n",
        "    try:\n",
        "        a = int(a)\n",
        "    except ValueError:\n",
        "        print('Введено не целое число!')\n",
        "        a = input('Введите целое число A: ')\n",
        "\n",
        "b = input('Введите целое число B: ')\n",
        "\n",
        "#Икслючение для B\n",
        "while type(b) != int:\n",
        "    try:\n",
        "        b = int(b)\n",
        "    except ValueError:\n",
        "        print('Введено не целое число!')\n",
        "        b = input('Введите целое число B: ')\n",
        "\n",
        "#Выполнение задачи\n",
        "if a > 0 or b < -2:\n",
        "    print('Неравенство справедливо')\n",
        "else:\n",
        "    print('Неравенство несправедливо')"
      ],
      "metadata": {
        "colab": {
          "base_uri": "https://localhost:8080/"
        },
        "id": "IG1g_WMxbnfH",
        "outputId": "416515a6-d022-490f-a8af-ac9a8824a079"
      },
      "execution_count": 4,
      "outputs": [
        {
          "output_type": "stream",
          "name": "stdout",
          "text": [
            "Введите целое число A: 5\n",
            "Введите целое число B: 3\n",
            "Неравенство справедливо\n"
          ]
        }
      ]
    }
  ]
}